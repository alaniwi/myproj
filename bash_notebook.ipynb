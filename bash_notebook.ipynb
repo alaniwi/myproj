{
 "cells": [
  {
   "cell_type": "code",
   "execution_count": 1,
   "id": "f0caf0b4-cd70-4fc6-9d48-78b823da39c7",
   "metadata": {},
   "outputs": [
    {
     "name": "stdout",
     "output_type": "stream",
     "text": [
      "hello\n"
     ]
    }
   ],
   "source": [
    "echo hello"
   ]
  },
  {
   "cell_type": "code",
   "execution_count": 2,
   "id": "55af6e2f-2282-4a7a-951d-62d12a6b55bf",
   "metadata": {},
   "outputs": [],
   "source": [
    "a=1"
   ]
  },
  {
   "cell_type": "code",
   "execution_count": 3,
   "id": "d53bafb4-1c53-44ed-9d1b-2ab85cc86fe0",
   "metadata": {},
   "outputs": [
    {
     "name": "stdout",
     "output_type": "stream",
     "text": [
      "1\n"
     ]
    }
   ],
   "source": [
    "echo $a"
   ]
  },
  {
   "cell_type": "code",
   "execution_count": 4,
   "id": "24b14ab2-2070-463a-bc67-e6263ca4f35f",
   "metadata": {},
   "outputs": [
    {
     "name": "stdout",
     "output_type": "stream",
     "text": [
      "== 1 ==\n",
      "== 2 ==\n",
      "== 3 ==\n"
     ]
    }
   ],
   "source": [
    "for x in 1 2 3\n",
    "do\n",
    "    echo \"== $x ==\"\n",
    "done"
   ]
  },
  {
   "cell_type": "code",
   "execution_count": 5,
   "id": "db1b7462-83a0-4c67-963a-02bbd33d872c",
   "metadata": {},
   "outputs": [
    {
     "name": "stdout",
     "output_type": "stream",
     "text": [
      "3\n"
     ]
    }
   ],
   "source": [
    "echo $x"
   ]
  },
  {
   "cell_type": "code",
   "execution_count": null,
   "id": "7abdef67-283e-4010-b797-265e4484d096",
   "metadata": {},
   "outputs": [],
   "source": []
  }
 ],
 "metadata": {
  "kernelspec": {
   "display_name": "Bash",
   "language": "bash",
   "name": "bash"
  },
  "language_info": {
   "codemirror_mode": "shell",
   "file_extension": ".sh",
   "mimetype": "text/x-sh",
   "name": "bash"
  }
 },
 "nbformat": 4,
 "nbformat_minor": 5
}
