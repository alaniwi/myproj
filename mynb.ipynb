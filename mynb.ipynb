{
 "cells": [
  {
   "cell_type": "markdown",
   "id": "25154fff-06b0-470a-b8a7-a52e11a02a03",
   "metadata": {},
   "source": [
    "# This is fun"
   ]
  },
  {
   "cell_type": "code",
   "execution_count": 1,
   "id": "200ec1c4-4f24-47ad-9096-a7ce1e2bc72e",
   "metadata": {},
   "outputs": [
    {
     "data": {
      "text/plain": [
       "4"
      ]
     },
     "execution_count": 1,
     "metadata": {},
     "output_type": "execute_result"
    }
   ],
   "source": [
    "2 + 2"
   ]
  }
 ],
 "metadata": {
  "kernelspec": {
   "display_name": "Python 3 (ipykernel)",
   "language": "python",
   "name": "python3"
  },
  "language_info": {
   "codemirror_mode": {
    "name": "ipython",
    "version": 3
   },
   "file_extension": ".py",
   "mimetype": "text/x-python",
   "name": "python",
   "nbconvert_exporter": "python",
   "pygments_lexer": "ipython3",
   "version": "3.10.5"
  }
 },
 "nbformat": 4,
 "nbformat_minor": 5
}
