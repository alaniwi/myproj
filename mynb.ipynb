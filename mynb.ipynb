{
 "cells": [
  {
   "cell_type": "markdown",
   "id": "25154fff-06b0-470a-b8a7-a52e11a02a03",
   "metadata": {},
   "source": [
    "# This is fun"
   ]
  },
  {
   "cell_type": "code",
   "execution_count": 1,
   "id": "200ec1c4-4f24-47ad-9096-a7ce1e2bc72e",
   "metadata": {},
   "outputs": [
    {
     "data": {
      "text/plain": [
       "4"
      ]
     },
     "execution_count": 1,
     "metadata": {},
     "output_type": "execute_result"
    }
   ],
   "source": [
    "2 + 2"
   ]
  },
  {
   "cell_type": "code",
   "execution_count": 3,
   "id": "d0009d8c-0cf8-4287-9e0a-54ee176ac0b1",
   "metadata": {},
   "outputs": [
    {
     "name": "stdout",
     "output_type": "stream",
     "text": [
      "                               2022                               \n",
      "\n",
      "       January               February                 March       \n",
      "Su Mo Tu We Th Fr Sa   Su Mo Tu We Th Fr Sa   Su Mo Tu We Th Fr Sa\n",
      "                   1          1  2  3  4  5          1  2  3  4  5\n",
      " 2  3  4  5  6  7  8    6  7  8  9 10 11 12    6  7  8  9 10 11 12\n",
      " 9 10 11 12 13 14 15   13 14 15 16 17 18 19   13 14 15 16 17 18 19\n",
      "16 17 18 19 20 21 22   20 21 22 23 24 25 26   20 21 22 23 24 25 26\n",
      "23 24 25 26 27 28 29   27 28                  27 28 29 30 31\n",
      "30 31\n",
      "        April                   May                   June        \n",
      "Su Mo Tu We Th Fr Sa   Su Mo Tu We Th Fr Sa   Su Mo Tu We Th Fr Sa\n",
      "                1  2    1  2  3  4  5  6  7             1  2  3  4\n",
      " 3  4  5  6  7  8  9    8  9 10 11 12 13 14    5  6  7  8  9 10 11\n",
      "10 11 12 13 14 15 16   15 16 17 18 19 20 21   12 13 14 15 16 17 18\n",
      "17 18 19 20 21 22 23   22 23 24 25 26 27 28   19 20 21 22 23 24 25\n",
      "24 25 26 27 28 29 30   29 30 31               26 27 28 29 30\n",
      "\n",
      "        July                  August                September     \n",
      "Su Mo Tu We Th Fr Sa   Su Mo Tu We Th Fr Sa   Su Mo Tu We Th Fr Sa\n",
      "                1  2       1  2  3  4  5  6                1  2  3\n",
      " 3  4  5  6  7  8  9    7  8  9 10 11 12 13    4  5  6  7  8  9 10\n",
      "10 11 12 13 14 15 16   14 15 16 17 18 19 20   11 12 13 14 15 16 17\n",
      "17 18 19 20 21 22 23   21 22 23 24 25 26 27   18 19 20 21 22 23 24\n",
      "24 25 26 27 28 29 30   28 29 30 31            25 26 27 28 29 30\n",
      "31\n",
      "       October               November               December      \n",
      "Su Mo Tu We Th Fr Sa   Su Mo Tu We Th Fr Sa   Su Mo Tu We Th Fr Sa\n",
      "                   1          1  2  3  4  5                1  2  3\n",
      " 2  3  4  5  6  7  8    6  7  8  9 10 11 12    4  5  6  7  8  9 10\n",
      " 9 10 11 12 13 14 15   13 14 15 16 17 18 19   11 12 13 14 15 16 17\n",
      "16 17 18 19 20 21 22   20 21 22 23 24 25 26   18 19 20 21 22 23 24\n",
      "23 24 25 26 27 28 29   27 28 29 30            25 26 27 28 29 30 31\n",
      "30 31\n",
      "\n"
     ]
    }
   ],
   "source": [
    "%%bash\n",
    "cal -y"
   ]
  },
  {
   "cell_type": "code",
   "execution_count": null,
   "id": "6c929447-b664-4a61-a4a4-65fe4ff8019c",
   "metadata": {},
   "outputs": [],
   "source": []
  },
  {
   "cell_type": "code",
   "execution_count": null,
   "id": "53a40841-84b0-49e8-8104-1d9a4e73e8c8",
   "metadata": {},
   "outputs": [],
   "source": []
  }
 ],
 "metadata": {
  "kernelspec": {
   "display_name": "Python 3 (ipykernel)",
   "language": "python",
   "name": "python3"
  },
  "language_info": {
   "codemirror_mode": {
    "name": "ipython",
    "version": 3
   },
   "file_extension": ".py",
   "mimetype": "text/x-python",
   "name": "python",
   "nbconvert_exporter": "python",
   "pygments_lexer": "ipython3",
   "version": "3.10.5"
  }
 },
 "nbformat": 4,
 "nbformat_minor": 5
}
